{
  "nbformat": 4,
  "nbformat_minor": 0,
  "metadata": {
    "colab": {
      "provenance": [],
      "collapsed_sections": []
    },
    "kernelspec": {
      "name": "python3",
      "display_name": "Python 3"
    },
    "language_info": {
      "name": "python"
    }
  },
  "cells": [
    {
      "cell_type": "code",
      "execution_count": 1,
      "metadata": {
        "id": "iaD5_c6Ho5PG"
      },
      "outputs": [],
      "source": [
        "def countInversion(arr):\n",
        "  result=0\n",
        "  for i in range(len(arr)):\n",
        "    for j in range(i+1,len(arr)):\n",
        "      if arr[i]>arr[j]:\n",
        "        result+=1\n",
        "  return result"
      ]
    },
    {
      "cell_type": "code",
      "source": [
        "arr=[21,70,36,14,25]"
      ],
      "metadata": {
        "id": "jmBrqXNHp1qs"
      },
      "execution_count": 2,
      "outputs": []
    },
    {
      "cell_type": "code",
      "source": [
        "result=countInversion(arr)\n",
        "print(result)"
      ],
      "metadata": {
        "colab": {
          "base_uri": "https://localhost:8080/"
        },
        "id": "1Ji-yfFop9Lg",
        "outputId": "fd0578c7-4858-4ef6-e059-3fd33c059c9e"
      },
      "execution_count": 3,
      "outputs": [
        {
          "output_type": "stream",
          "name": "stdout",
          "text": [
            "6\n"
          ]
        }
      ]
    },
    {
      "cell_type": "code",
      "source": [
        "arr=[9,8,7,6,5]"
      ],
      "metadata": {
        "id": "veUeywO9tzVa"
      },
      "execution_count": 6,
      "outputs": []
    },
    {
      "cell_type": "code",
      "source": [
        "result=countInversion(arr)\n",
        "print(result)"
      ],
      "metadata": {
        "colab": {
          "base_uri": "https://localhost:8080/"
        },
        "id": "ABKIz8W0t8NU",
        "outputId": "aaaf08bd-3007-461e-e202-a60b022ef5c6"
      },
      "execution_count": 7,
      "outputs": [
        {
          "output_type": "stream",
          "name": "stdout",
          "text": [
            "10\n"
          ]
        }
      ]
    },
    {
      "cell_type": "code",
      "source": [
        "def countInversion(arr):\n",
        "  icount=0\n",
        "  if len(arr)<=1:\n",
        "    return icount \n",
        "\n",
        "  mid=len(arr)//2\n",
        "  left=arr[:mid]\n",
        "  right=arr[mid:]\n",
        "  icount+=countInversion(left)\n",
        "  icount+=countInversion(right)\n",
        "  i=j=k=0\n",
        "\n",
        "  #print(Left)\n",
        "  #print(Right)\n",
        "  while i<len(left) and j<len(right):\n",
        "    if left[i]<right[j]:\n",
        "        arr[k]=left[i]\n",
        "        i+=1\n",
        "    else:\n",
        "      #print(Left[i],right[j])\n",
        "      arr[k]=right[j]\n",
        "      j+=1\n",
        "      icount+=(mid-i)\n",
        "    k+=1\n",
        "\n",
        "  while i<len(left):\n",
        "      arr[k]=left[i]\n",
        "      i+=1\n",
        "      k+=1\n",
        "  while j<len(right):\n",
        "      arr[k]=right[j]\n",
        "      j+=1\n",
        "      k+=1\n",
        "  \n",
        "  return icount\n",
        "\n"
      ],
      "metadata": {
        "id": "-_ttqZk3vl2R"
      },
      "execution_count": 23,
      "outputs": []
    },
    {
      "cell_type": "code",
      "source": [
        "arr=[1, 20, 6, 4, 5]"
      ],
      "metadata": {
        "id": "cBCBb3ntyFT1"
      },
      "execution_count": 26,
      "outputs": []
    },
    {
      "cell_type": "code",
      "source": [
        "result = countInversion(arr)\n",
        "print(result)"
      ],
      "metadata": {
        "colab": {
          "base_uri": "https://localhost:8080/"
        },
        "id": "AqjVv54UyLYy",
        "outputId": "ef092573-389e-41a8-a9bc-7a0bc79bd265"
      },
      "execution_count": 27,
      "outputs": [
        {
          "output_type": "stream",
          "name": "stdout",
          "text": [
            "5\n"
          ]
        }
      ]
    },
    {
      "cell_type": "code",
      "source": [
        "#tanpa divide dan coquer\n",
        "\n",
        "def maxSubSum(arr):\n",
        "    max_so_far=0\n",
        "    max_ending_here=0\n",
        "    for i in range(len(arr)):\n",
        "        max_ending_here+=arr[i]\n",
        "        if max_ending_here>max_so_far:\n",
        "            max_so_far=max_ending_here\n",
        "        if max_ending_here<0:\n",
        "            max_ending_here=0\n",
        "    return max_so_far"
      ],
      "metadata": {
        "id": "9m11R9AD5kWZ"
      },
      "execution_count": 34,
      "outputs": []
    },
    {
      "cell_type": "code",
      "source": [
        "arr=[-2, -5, 6, -2, -3, 1, 5, -6]\n",
        "result=maxSubSum(arr)\n",
        "print(result)"
      ],
      "metadata": {
        "colab": {
          "base_uri": "https://localhost:8080/"
        },
        "id": "GJFHYGLU6X6R",
        "outputId": "45aca0ab-1c3b-45b3-8437-f117309c2cfe"
      },
      "execution_count": 35,
      "outputs": [
        {
          "output_type": "stream",
          "name": "stdout",
          "text": [
            "7\n"
          ]
        }
      ]
    },
    {
      "cell_type": "code",
      "source": [
        "def maxCrossingSum(arr,low,mid,high):\n",
        "    result=0; leftSum=float('-infinity')\n",
        "    for i in range(mid,low-1,-1):\n",
        "        result+=arr[i]\n",
        "        if result>leftSum:\n",
        "          leftSum=result\n",
        "    result=0; rightSum=float('-infinity')\n",
        "    for i in range(mid+1,high+1):\n",
        "        result+=arr[i] \n",
        "        if result>rightSum:\n",
        "            rightSum=result\n",
        "    return leftSum+rightSum\n",
        "\n",
        "def maxSum(arr,low,high):\n",
        "    if low==high:\n",
        "        return arr[low]\n",
        "    mid=(low+high)//2\n",
        "    return max(maxSum(arr,low,mid),maxSum(arr,mid+1,high),maxCrossingSum(arr,low,mid,high))"
      ],
      "metadata": {
        "id": "PAw_WReW8ule"
      },
      "execution_count": 48,
      "outputs": []
    },
    {
      "cell_type": "code",
      "source": [
        "arr=[-2, -5, 6, -2, -3, 1, 5, -6]\n",
        "result=maxSum(arr,0,len(arr)-1)\n",
        "print(result)"
      ],
      "metadata": {
        "colab": {
          "base_uri": "https://localhost:8080/"
        },
        "id": "-e8S1VMf-_Jb",
        "outputId": "14eb548b-07e4-4840-f011-277fd7cf4c4e"
      },
      "execution_count": 49,
      "outputs": [
        {
          "output_type": "stream",
          "name": "stdout",
          "text": [
            "7\n"
          ]
        }
      ]
    },
    {
      "cell_type": "code",
      "source": [
        "def commonPrefix(str1,str2):\n",
        "    n1=len(str1);n2=len(str2)\n",
        "    i,j=0,0\n",
        "    s=\"\"\n",
        "    while i<n1 and j<n2:\n",
        "        if str1[i]==str2[j]:\n",
        "            s+=str1[i]\n",
        "            i+=1\n",
        "            j+=1\n",
        "        else:\n",
        "            break\n",
        "    return s"
      ],
      "metadata": {
        "id": "_UCRSFh5BkXE"
      },
      "execution_count": 50,
      "outputs": []
    },
    {
      "cell_type": "code",
      "source": [
        "def longestCommonPrefix(arr,low,high):\n",
        "    if low==high:\n",
        "        return arr[low]\n",
        "    mid=(low+high)//2\n",
        "    result1=longestCommonPrefix(arr,low,mid)\n",
        "    result2=longestCommonPrefix(arr,mid+1,high)\n",
        "    result=commonPrefix(result1,result2)\n",
        "    return result"
      ],
      "metadata": {
        "id": "mKx64o14CU0P"
      },
      "execution_count": 58,
      "outputs": []
    },
    {
      "cell_type": "code",
      "source": [
        "arr=['geeksforgeeks','geeks','geek','geezer']\n"
      ],
      "metadata": {
        "id": "4Q_uWaejDOOo"
      },
      "execution_count": 59,
      "outputs": []
    },
    {
      "cell_type": "code",
      "source": [
        "result=longestCommonPrefix(arr,0,len(arr)-1)"
      ],
      "metadata": {
        "id": "GzGVdzSuDeTL"
      },
      "execution_count": 60,
      "outputs": []
    },
    {
      "cell_type": "code",
      "source": [
        "print(result)"
      ],
      "metadata": {
        "colab": {
          "base_uri": "https://localhost:8080/"
        },
        "id": "bhA1CX8HDpK1",
        "outputId": "b54db771-b754-4e3d-cb78-68e4ee22fc7a"
      },
      "execution_count": 61,
      "outputs": [
        {
          "output_type": "stream",
          "name": "stdout",
          "text": [
            "gee\n"
          ]
        }
      ]
    },
    {
      "cell_type": "code",
      "source": [
        "arr=[\"apple\", \"ape\", \"april\"]\n",
        "result=longestCommonPrefix(arr,0,len(arr)-1)\n",
        "print(result)"
      ],
      "metadata": {
        "colab": {
          "base_uri": "https://localhost:8080/"
        },
        "id": "PRLkDA8aENi1",
        "outputId": "b40ad2d9-b5c8-4709-8816-fa3b5150a895"
      },
      "execution_count": 62,
      "outputs": [
        {
          "output_type": "stream",
          "name": "stdout",
          "text": [
            "ap\n"
          ]
        }
      ]
    },
    {
      "cell_type": "code",
      "source": [
        "def medianOfArray(arr1,arr2,n):\n",
        "    m1=-1 #first number\n",
        "    m2=-1 #second number\n",
        "    count=0\n",
        "    i=j=0\n",
        "    while count<n+1:\n",
        "        count+=1\n",
        "        if i==n: #i==5 index error if arr1[i] <arr2[j] is checked\n",
        "            m1=m2\n",
        "            m2=arr2[0]\n",
        "            break\n",
        "        if j==n:\n",
        "            m1=m2\n",
        "            m2=arr1[0]\n",
        "            break\n",
        "        if arr1[i]<arr2[j]:\n",
        "            m1=m2\n",
        "            m2=arr1[i]\n",
        "            i+=1\n",
        "        else:\n",
        "            m1=m2\n",
        "            m2=arr2[j]\n",
        "            j+=1\n",
        "    return (m1+m2)//2\n",
        " \n"
      ],
      "metadata": {
        "id": "Rlnna1B9F1WD"
      },
      "execution_count": 67,
      "outputs": []
    },
    {
      "cell_type": "code",
      "source": [
        "arr1=[1, 12 ,15, 26, 38]\n",
        "arr2=[2, 13 ,17, 30, 45]"
      ],
      "metadata": {
        "id": "pK8X0YGdHinF"
      },
      "execution_count": 68,
      "outputs": []
    },
    {
      "cell_type": "code",
      "source": [
        "print(medianOfArray(arr1,arr2,len(arr1)))"
      ],
      "metadata": {
        "colab": {
          "base_uri": "https://localhost:8080/"
        },
        "id": "OgFnWt4kHyxU",
        "outputId": "6d3a5c31-db23-4436-9299-3d3ac2c4066b"
      },
      "execution_count": 69,
      "outputs": [
        {
          "output_type": "stream",
          "name": "stdout",
          "text": [
            "16\n"
          ]
        }
      ]
    },
    {
      "cell_type": "code",
      "source": [
        "#Floor in sorted array \n",
        "def floorSorted(arr,low,high,x):\n",
        "    #print(Low,high)\n",
        "    if low>high:\n",
        "        return -1\n",
        "\n",
        "    if arr[low]>x:\n",
        "        #print(\"inside\")\n",
        "        return -1\n",
        "\n",
        "    if arr[high]<=x:\n",
        "        return arr[high]\n",
        "\n",
        "    mid=(low+high)//2\n",
        "\n",
        "    if arr[mid]==x:\n",
        "        arr[mid]\n",
        "    \n",
        "    if mid>0 and x>=arr[mid-1] and arr[mid]>x:\n",
        "        return arr[mid-1]\n",
        "\n",
        "    if mid<high and x<arr[mid+1] and x>=arr[mid]:\n",
        "        return arr[mid]\n",
        "\n",
        "    if x>arr[mid]:\n",
        "        return floorSorted(arr,mid+1,high,x)\n",
        "    else:\n",
        "        return floorSorted(arr,low,mid-1,x)"
      ],
      "metadata": {
        "id": "nY_KKpZgK28e"
      },
      "execution_count": 70,
      "outputs": []
    },
    {
      "cell_type": "code",
      "source": [
        "arr=[1,2,8,10,12,14,19]"
      ],
      "metadata": {
        "id": "xgX_Z3PpM0oc"
      },
      "execution_count": 71,
      "outputs": []
    },
    {
      "cell_type": "code",
      "source": [
        "x=5"
      ],
      "metadata": {
        "id": "mpxMwxZ0M6Kf"
      },
      "execution_count": 72,
      "outputs": []
    },
    {
      "cell_type": "code",
      "source": [
        "print(floorSorted(arr,0,len(arr)-1,x))"
      ],
      "metadata": {
        "colab": {
          "base_uri": "https://localhost:8080/"
        },
        "id": "e9zYo_yqM8Tv",
        "outputId": "bcbc099b-894d-42fd-e997-12bac9686dd4"
      },
      "execution_count": 73,
      "outputs": [
        {
          "output_type": "stream",
          "name": "stdout",
          "text": [
            "2\n"
          ]
        }
      ]
    },
    {
      "cell_type": "code",
      "source": [
        "#mencari nilai terdekat dengan metode divide dan qonquer\n",
        "\n",
        "def closestNumber(arr,low,high,x):\n",
        "    if low>high:\n",
        "        return -1\n",
        "    if arr[high]<=x:\n",
        "        return arr[high]\n",
        "    if arr[low]>=x:\n",
        "        return arr[low]\n",
        "    mid=(low+high)//2\n",
        "    if arr[mid]==x:\n",
        "        return arr[mid]\n",
        "    abs_mid=abs(arr[mid]-x)\n",
        "    if mid>0:\n",
        "        abs_left=abs(arr[mid-1]-x)\n",
        "        if abs_left<abs_mid:\n",
        "            return closetsNumber(arr,low,mid-1,x)\n",
        "    if mid<high:\n",
        "        abs_rigth=abs(arr[mid+1]-x)\n",
        "        if abs_right<abs_mid:\n",
        "            return closestNumber(arr,mid+1,high,x)\n",
        "        #print('after')\n",
        "        return arr[mid]"
      ],
      "metadata": {
        "id": "Qs4R1jWMPE4j"
      },
      "execution_count": 77,
      "outputs": []
    },
    {
      "cell_type": "code",
      "source": [
        "arr=[2,5,6,7,8,8,9]"
      ],
      "metadata": {
        "id": "IvlNbTUrQ1YU"
      },
      "execution_count": 78,
      "outputs": []
    },
    {
      "cell_type": "code",
      "source": [
        "x = 9"
      ],
      "metadata": {
        "id": "XJ2LyjcjQ6qK"
      },
      "execution_count": 79,
      "outputs": []
    },
    {
      "cell_type": "code",
      "source": [
        "print(closestNumber(arr,0,len(arr)-1,x))"
      ],
      "metadata": {
        "colab": {
          "base_uri": "https://localhost:8080/"
        },
        "id": "QLLpzzaAQ9ud",
        "outputId": "683b094d-ca3f-4215-c555-67bea390bb5b"
      },
      "execution_count": 80,
      "outputs": [
        {
          "output_type": "stream",
          "name": "stdout",
          "text": [
            "9\n"
          ]
        }
      ]
    },
    {
      "cell_type": "code",
      "source": [
        "#mencari fixed point dengan metode divide and conquer\n",
        "\n",
        "def fixedPoint(arr,low,high):\n",
        "    if low>high:\n",
        "        return -1\n",
        "    if arr[high]==high:\n",
        "        return arr[high]\n",
        "    if arr[low]==[low]:\n",
        "        return [low]\n",
        "    mid=(low+high)//2\n",
        "    if arr[mid]==mid:\n",
        "        return arr[mid]\n",
        "    if mid>arr[mid]:\n",
        "        return fixedPoint(arr,mid+1,high)\n",
        "    else:\n",
        "        return fixedPoint(arr,low,mid-1)"
      ],
      "metadata": {
        "id": "2jJ5ZdjfRIYD"
      },
      "execution_count": 82,
      "outputs": []
    },
    {
      "cell_type": "code",
      "source": [
        "arr=[9,1,4,5,2]"
      ],
      "metadata": {
        "id": "XOqpNAXASv1U"
      },
      "execution_count": 83,
      "outputs": []
    },
    {
      "cell_type": "code",
      "source": [
        "print(fixedPoint(arr,0,len(arr)-1))"
      ],
      "metadata": {
        "colab": {
          "base_uri": "https://localhost:8080/"
        },
        "id": "lzSsuRRaS0WZ",
        "outputId": "f53c6f13-068b-42c6-bd1f-16b61e8e22be"
      },
      "execution_count": 84,
      "outputs": [
        {
          "output_type": "stream",
          "name": "stdout",
          "text": [
            "1\n"
          ]
        }
      ]
    }
  ]
}